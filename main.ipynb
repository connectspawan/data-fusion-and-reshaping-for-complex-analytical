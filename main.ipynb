{
 "cells": [
  {
   "cell_type": "code",
   "execution_count": 1,
   "id": "ad34fdad",
   "metadata": {},
   "outputs": [
    {
     "name": "stdout",
     "output_type": "stream",
     "text": [
      "DataFrame 1 (Customers):\n",
      "<class 'pandas.core.frame.DataFrame'>\n",
      "RangeIndex: 9 entries, 0 to 8\n",
      "Data columns (total 5 columns):\n",
      " #   Column       Non-Null Count  Dtype  \n",
      "---  ------       --------------  -----  \n",
      " 0   customer_id  9 non-null      int64  \n",
      " 1   name         9 non-null      object \n",
      " 2   age          7 non-null      float64\n",
      " 3   signup_date  9 non-null      object \n",
      " 4   region       9 non-null      object \n",
      "dtypes: float64(1), int64(1), object(3)\n",
      "memory usage: 488.0+ bytes\n",
      "None\n",
      "   customer_id           name   age signup_date region\n",
      "0            1    Bruce Wayne  25.0  2023-01-01  North\n",
      "1            2     Jane Smith  30.0  2023-02-01  South\n",
      "2            3    Bob Johnson   NaN  2023-03-01   West\n",
      "3            4    Alice Brown  35.0  2023-04-01  North\n",
      "4            5  Charlie Davis  28.0  2023-05-01   East\n",
      "\n",
      "DataFrame 2 (Transactions):\n",
      "<class 'pandas.core.frame.DataFrame'>\n",
      "RangeIndex: 15 entries, 0 to 14\n",
      "Data columns (total 5 columns):\n",
      " #   Column            Non-Null Count  Dtype  \n",
      "---  ------            --------------  -----  \n",
      " 0   customer_id       15 non-null     int64  \n",
      " 1   order_id          15 non-null     int64  \n",
      " 2   amount            15 non-null     float64\n",
      " 3   order_date        15 non-null     object \n",
      " 4   product_category  15 non-null     object \n",
      "dtypes: float64(1), int64(2), object(2)\n",
      "memory usage: 728.0+ bytes\n",
      "None\n",
      "   customer_id  order_id  amount  order_date product_category\n",
      "0            1       101   50.75  2023-01-15      Electronics\n",
      "1            1       102   25.00  2023-01-20            Books\n",
      "2            2       103  100.00  2023-02-10         Clothing\n",
      "3            2       104   75.50  2023-02-15      Electronics\n",
      "4            3       105   30.25  2023-03-05            Books\n",
      "\n",
      "DataFrame 3 (Engagement):\n",
      "<class 'pandas.core.frame.DataFrame'>\n",
      "RangeIndex: 8 entries, 0 to 7\n",
      "Data columns (total 4 columns):\n",
      " #   Column           Non-Null Count  Dtype  \n",
      "---  ------           --------------  -----  \n",
      " 0   customer_id      8 non-null      int64  \n",
      " 1   visit_count      8 non-null      int64  \n",
      " 2   avg_rating       7 non-null      float64\n",
      " 3   last_visit_date  8 non-null      object \n",
      "dtypes: float64(1), int64(2), object(1)\n",
      "memory usage: 384.0+ bytes\n",
      "None\n",
      "   customer_id  visit_count  avg_rating last_visit_date\n",
      "0            1           10         4.5      2023-01-30\n",
      "1            2            5         3.8      2023-02-25\n",
      "2            3            2         2.5      2023-03-10\n",
      "3            4            8         4.0      2023-04-20\n",
      "4            6            3         NaN      2023-06-15\n"
     ]
    }
   ],
   "source": [
    "import pandas as pd\n",
    "\n",
    "# Load the CSVs\n",
    "df1 = pd.read_csv('data/data1.csv')\n",
    "df2 = pd.read_csv('data/data2.csv')\n",
    "df3 = pd.read_csv('data/data3.csv')\n",
    "\n",
    "# Inspect data types and structure\n",
    "print(\"DataFrame 1 (Customers):\")\n",
    "print(df1.info())\n",
    "print(df1.head())\n",
    "print(\"\\nDataFrame 2 (Transactions):\")\n",
    "print(df2.info())\n",
    "print(df2.head())\n",
    "print(\"\\nDataFrame 3 (Engagement):\")\n",
    "print(df3.info())\n",
    "print(df3.head())"
   ]
  },
  {
   "cell_type": "code",
   "execution_count": 2,
   "id": "5a2f6b9e",
   "metadata": {},
   "outputs": [
    {
     "name": "stdout",
     "output_type": "stream",
     "text": [
      "Merged DataFrame:\n",
      "<class 'pandas.core.frame.DataFrame'>\n",
      "RangeIndex: 16 entries, 0 to 15\n",
      "Data columns (total 12 columns):\n",
      " #   Column            Non-Null Count  Dtype  \n",
      "---  ------            --------------  -----  \n",
      " 0   customer_id       16 non-null     int64  \n",
      " 1   name              16 non-null     object \n",
      " 2   age               14 non-null     float64\n",
      " 3   signup_date       16 non-null     object \n",
      " 4   region            16 non-null     object \n",
      " 5   order_id          14 non-null     float64\n",
      " 6   amount            14 non-null     float64\n",
      " 7   order_date        14 non-null     object \n",
      " 8   product_category  14 non-null     object \n",
      " 9   visit_count       12 non-null     float64\n",
      " 10  avg_rating        11 non-null     float64\n",
      " 11  last_visit_date   12 non-null     object \n",
      "dtypes: float64(5), int64(1), object(6)\n",
      "memory usage: 1.6+ KB\n",
      "None\n",
      "   customer_id         name   age signup_date region  order_id  amount  \\\n",
      "0            1  Bruce Wayne  25.0  2023-01-01  North     101.0   50.75   \n",
      "1            1  Bruce Wayne  25.0  2023-01-01  North     102.0   25.00   \n",
      "2            2   Jane Smith  30.0  2023-02-01  South     103.0  100.00   \n",
      "3            2   Jane Smith  30.0  2023-02-01  South     104.0   75.50   \n",
      "4            2   Jane Smith  30.0  2023-02-01  South     113.0   55.00   \n",
      "\n",
      "   order_date product_category  visit_count  avg_rating last_visit_date  \n",
      "0  2023-01-15      Electronics         10.0         4.5      2023-01-30  \n",
      "1  2023-01-20            Books         10.0         4.5      2023-01-30  \n",
      "2  2023-02-10         Clothing          5.0         3.8      2023-02-25  \n",
      "3  2023-02-15      Electronics          5.0         3.8      2023-02-25  \n",
      "4  2023-02-20             Home          5.0         3.8      2023-02-25  \n"
     ]
    }
   ],
   "source": [
    "# Merge data1 and data2\n",
    "merged_df = pd.merge(df1, df2, on='customer_id', how='left', suffixes=('_cust', '_trans'))\n",
    "\n",
    "# Merge with data3\n",
    "final_df = pd.merge(merged_df, df3, on='customer_id', how='left')\n",
    "print(\"Merged DataFrame:\")\n",
    "print(final_df.info())\n",
    "print(final_df.head())"
   ]
  },
  {
   "cell_type": "code",
   "execution_count": 3,
   "id": "78e85376",
   "metadata": {},
   "outputs": [
    {
     "name": "stdout",
     "output_type": "stream",
     "text": [
      "Pivoted DataFrame:\n",
      "product_category  Books  Clothing  Electronics   Home\n",
      "order_date                                           \n",
      "2023-01-15          NaN       NaN        50.75    NaN\n",
      "2023-01-20        25.00       NaN          NaN    NaN\n",
      "2023-02-10          NaN     100.0          NaN    NaN\n",
      "2023-02-15          NaN       NaN        75.50    NaN\n",
      "2023-02-20          NaN       NaN          NaN   55.0\n",
      "2023-03-05        30.25       NaN          NaN    NaN\n",
      "2023-04-10          NaN       NaN          NaN  200.0\n",
      "2023-04-15          NaN      35.5          NaN    NaN\n",
      "2023-05-12        15.99       NaN          NaN    NaN\n",
      "2023-05-15          NaN       NaN        80.00    NaN\n",
      "2023-05-20        25.00       NaN          NaN    NaN\n",
      "2023-07-01          NaN      45.0          NaN    NaN\n",
      "2023-07-10          NaN       NaN          NaN   60.0\n",
      "2023-08-05          NaN       NaN       120.00    NaN\n"
     ]
    }
   ],
   "source": [
    "pivot_df = pd.pivot_table(final_df, values='amount', index='order_date', \n",
    "                          columns='product_category', aggfunc='sum')\n",
    "print(\"Pivoted DataFrame:\")\n",
    "print(pivot_df)"
   ]
  },
  {
   "cell_type": "code",
   "execution_count": 4,
   "id": "5e961593",
   "metadata": {},
   "outputs": [
    {
     "name": "stdout",
     "output_type": "stream",
     "text": [
      "Aggregated DataFrame:\n",
      "  region  visit_count  avg_rating\n",
      "0   East     6.000000    3.900000\n",
      "1  North     9.000000    4.250000\n",
      "2  South     4.500000    3.800000\n",
      "3   West     8.666667    3.633333\n"
     ]
    }
   ],
   "source": [
    "agg_df = final_df.groupby('region').agg({'visit_count': 'mean', 'avg_rating': 'mean'}).reset_index()\n",
    "print(\"Aggregated DataFrame:\")\n",
    "print(agg_df)"
   ]
  },
  {
   "cell_type": "code",
   "execution_count": 5,
   "id": "ab1f67eb",
   "metadata": {},
   "outputs": [
    {
     "name": "stdout",
     "output_type": "stream",
     "text": [
      "Melted DataFrame:\n",
      "   customer_id         name  metric   value\n",
      "0            1  Bruce Wayne  amount   50.75\n",
      "1            1  Bruce Wayne  amount   25.00\n",
      "2            2   Jane Smith  amount  100.00\n",
      "3            2   Jane Smith  amount   75.50\n",
      "4            2   Jane Smith  amount   55.00\n"
     ]
    }
   ],
   "source": [
    "melted_df = pd.melt(final_df, id_vars=['customer_id', 'name'], \n",
    "                    value_vars=['amount', 'visit_count', 'avg_rating'],\n",
    "                    var_name='metric', value_name='value')\n",
    "print(\"Melted DataFrame:\")\n",
    "print(melted_df.head())"
   ]
  },
  {
   "cell_type": "code",
   "execution_count": 6,
   "id": "4c779956",
   "metadata": {},
   "outputs": [],
   "source": [
    "df1 = df1.drop_duplicates(subset=['customer_id'], keep='first')"
   ]
  },
  {
   "cell_type": "code",
   "execution_count": 7,
   "id": "1e8753f1",
   "metadata": {},
   "outputs": [],
   "source": [
    "final_df['age'] = final_df['age'].fillna(final_df['age'].mean())\n",
    "final_df['avg_rating'] = final_df['avg_rating'].fillna(final_df['avg_rating'].median())"
   ]
  },
  {
   "cell_type": "code",
   "execution_count": 8,
   "id": "b1dbe5b5",
   "metadata": {},
   "outputs": [],
   "source": [
    "final_df.to_csv('output/analytical_dataset.csv', index=False)"
   ]
  },
  {
   "cell_type": "code",
   "execution_count": null,
   "id": "3cd689cb",
   "metadata": {},
   "outputs": [],
   "source": []
  }
 ],
 "metadata": {
  "kernelspec": {
   "display_name": "data_fusion",
   "language": "python",
   "name": "python3"
  },
  "language_info": {
   "codemirror_mode": {
    "name": "ipython",
    "version": 3
   },
   "file_extension": ".py",
   "mimetype": "text/x-python",
   "name": "python",
   "nbconvert_exporter": "python",
   "pygments_lexer": "ipython3",
   "version": "3.10.18"
  }
 },
 "nbformat": 4,
 "nbformat_minor": 5
}
